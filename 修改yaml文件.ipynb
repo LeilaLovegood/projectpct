{
  "nbformat": 4,
  "nbformat_minor": 0,
  "metadata": {
    "colab": {
      "name": "修改yaml文件.ipynb",
      "provenance": [],
      "collapsed_sections": [],
      "include_colab_link": true
    },
    "kernelspec": {
      "name": "python3",
      "display_name": "Python 3"
    },
    "language_info": {
      "name": "python"
    }
  },
  "cells": [
    {
      "cell_type": "markdown",
      "metadata": {
        "id": "view-in-github",
        "colab_type": "text"
      },
      "source": [
        "<a href=\"https://colab.research.google.com/github/LeilaLovegood/projectpct/blob/main/%E4%BF%AE%E6%94%B9yaml%E6%96%87%E4%BB%B6.ipynb\" target=\"_parent\"><img src=\"https://colab.research.google.com/assets/colab-badge.svg\" alt=\"Open In Colab\"/></a>"
      ]
    },
    {
      "cell_type": "code",
      "execution_count": 1,
      "metadata": {
        "colab": {
          "base_uri": "https://localhost:8080/"
        },
        "id": "wBPLgVXt72w4",
        "outputId": "a58f02c0-0580-457e-ca4c-bce08ed0716f"
      },
      "outputs": [
        {
          "output_type": "execute_result",
          "data": {
            "text/plain": [
              "{'batch_size': 16,\n",
              " 'defaults': [{'model': 'Menghao'}],\n",
              " 'epoch': 200,\n",
              " 'gpu': 1,\n",
              " 'hydra': {'run': {'dir': 'log/cls/${model.name}'},\n",
              "  'sweep': {'dir': 'log/cls', 'subdir': '${model.name}'}},\n",
              " 'learning_rate': '1e-3',\n",
              " 'normal': True,\n",
              " 'num_point': 1024,\n",
              " 'optimizer': 'Adam',\n",
              " 'weight_decay': '1e-4'}"
            ]
          },
          "metadata": {},
          "execution_count": 1
        }
      ],
      "source": [
        "import yaml\n",
        "with open('/content/cls.yaml', errors='ignore') as f:\n",
        "        data = yaml.safe_load(f) \n",
        "data"
      ]
    },
    {
      "cell_type": "code",
      "source": [
        "data['weight_decay'] = 1e-5"
      ],
      "metadata": {
        "id": "zoicFCavcwNX"
      },
      "execution_count": 5,
      "outputs": []
    },
    {
      "cell_type": "code",
      "source": [
        "with open('/content/cls.yaml', \"w\") as f:\n",
        "    yaml.safe_dump(data,f,encoding='utf-8', allow_unicode=True)"
      ],
      "metadata": {
        "id": "wXl5bvuABXZ0"
      },
      "execution_count": 7,
      "outputs": []
    },
    {
      "cell_type": "code",
      "source": [
        "with open('/content/cls.yaml') as f:\n",
        "        data2 = yaml.safe_load(f) \n",
        "data2"
      ],
      "metadata": {
        "colab": {
          "base_uri": "https://localhost:8080/"
        },
        "id": "sHbxWujxEQB4",
        "outputId": "5d79aea6-65d2-4076-e328-b312182ca1e4"
      },
      "execution_count": 8,
      "outputs": [
        {
          "output_type": "execute_result",
          "data": {
            "text/plain": [
              "{'batch_size': 16,\n",
              " 'defaults': [{'model': 'Menghao'}],\n",
              " 'epoch': 200,\n",
              " 'gpu': 1,\n",
              " 'hydra': {'run': {'dir': 'log/cls/${model.name}'},\n",
              "  'sweep': {'dir': 'log/cls', 'subdir': '${model.name}'}},\n",
              " 'learning_rate': '1e-3',\n",
              " 'normal': True,\n",
              " 'num_point': 1024,\n",
              " 'optimizer': 'Adam',\n",
              " 'weight_decay': 1e-05}"
            ]
          },
          "metadata": {},
          "execution_count": 8
        }
      ]
    },
    {
      "cell_type": "code",
      "source": [
        ""
      ],
      "metadata": {
        "id": "GaL4pIa4dQTb"
      },
      "execution_count": null,
      "outputs": []
    }
  ]
}